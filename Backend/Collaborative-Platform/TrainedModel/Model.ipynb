{
 "cells": [
  {
   "cell_type": "code",
   "execution_count": null,
   "metadata": {
    "colab": {
     "base_uri": "https://localhost:8080/"
    },
    "executionInfo": {
     "elapsed": 2814,
     "status": "ok",
     "timestamp": 1742984478053,
     "user": {
      "displayName": "Shobi Sri",
      "userId": "12138627598149348774"
     },
     "user_tz": -330
    },
    "id": "ngBqYBJO5gIM",
    "outputId": "0d78076d-e5cf-4dfc-95d6-736a09232dad"
   },
   "outputs": [
    {
     "name": "stdout",
     "output_type": "stream",
     "text": [
      "\u001b[?25l   \u001b[90m━━━━━━━━━━━━━━━━━━━━━━━━━━━━━━━━━━━━━━━━\u001b[0m \u001b[32m0.0/3.6 MB\u001b[0m \u001b[31m?\u001b[0m eta \u001b[36m-:--:--\u001b[0m\r\u001b[2K   \u001b[91m━━━━━━━━━━━━━━━━━━━━━━━━━━━━━━━━━━━━━━━\u001b[0m\u001b[91m╸\u001b[0m \u001b[32m3.6/3.6 MB\u001b[0m \u001b[31m117.8 MB/s\u001b[0m eta \u001b[36m0:00:01\u001b[0m\r\u001b[2K   \u001b[90m━━━━━━━━━━━━━━━━━━━━━━━━━━━━━━━━━━━━━━━━\u001b[0m \u001b[32m3.6/3.6 MB\u001b[0m \u001b[31m70.6 MB/s\u001b[0m eta \u001b[36m0:00:00\u001b[0m\n",
      "\u001b[?25h"
     ]
    }
   ],
   "source": [
    "#install libraries\n",
    "!pip install --upgrade lightgbm -q"
   ]
  },
  {
   "cell_type": "code",
   "execution_count": 20,
   "metadata": {
    "executionInfo": {
     "elapsed": 2300,
     "status": "ok",
     "timestamp": 1742984526052,
     "user": {
      "displayName": "Shobi Sri",
      "userId": "12138627598149348774"
     },
     "user_tz": -330
    },
    "id": "IXji0TAe9yRV"
   },
   "outputs": [],
   "source": [
    "!pip install sentence-transformers -q"
   ]
  },
  {
   "cell_type": "code",
   "execution_count": null,
   "metadata": {
    "executionInfo": {
     "elapsed": 27,
     "status": "ok",
     "timestamp": 1742986707308,
     "user": {
      "displayName": "Shobi Sri",
      "userId": "12138627598149348774"
     },
     "user_tz": -330
    },
    "id": "eYRql0SF5h1J"
   },
   "outputs": [],
   "source": [
    "#Imports necessary Python libraries\n",
    "import pandas as pd\n",
    "import numpy as np\n",
    "from sklearn.preprocessing import OneHotEncoder, MinMaxScaler\n",
    "from sklearn.model_selection import train_test_split\n",
    "from sklearn.metrics import ndcg_score\n",
    "from sentence_transformers import SentenceTransformer\n",
    "from sklearn.metrics.pairwise import cosine_similarity\n",
    "import lightgbm as lgb\n",
    "import joblib"
   ]
  },
  {
   "cell_type": "code",
   "execution_count": null,
   "metadata": {
    "colab": {
     "base_uri": "https://localhost:8080/"
    },
    "executionInfo": {
     "elapsed": 25849,
     "status": "ok",
     "timestamp": 1742994188572,
     "user": {
      "displayName": "Shobi Sri",
      "userId": "12138627598149348774"
     },
     "user_tz": -330
    },
    "id": "dCP1oMa-5jls",
    "outputId": "61bcd834-a71f-49dd-81b6-3d9d83744a69"
   },
   "outputs": [
    {
     "name": "stdout",
     "output_type": "stream",
     "text": [
      "Mounted at /content/drive\n"
     ]
    }
   ],
   "source": [
    "#Mounts Google Drive\n",
    "from google.colab import drive\n",
    "drive.mount('/content/drive')"
   ]
  },
  {
   "cell_type": "code",
   "execution_count": null,
   "metadata": {
    "executionInfo": {
     "elapsed": 12,
     "status": "ok",
     "timestamp": 1742986580347,
     "user": {
      "displayName": "Shobi Sri",
      "userId": "12138627598149348774"
     },
     "user_tz": -330
    },
    "id": "nPFSjptN5mXD"
   },
   "outputs": [],
   "source": [
    "# Load Dataset\n",
    "user_df = pd.read_csv(\"/content/drive/My Drive/Colab Notebooks/User_Preference.csv\")\n",
    "group_df = pd.read_csv(\"/content/drive/My Drive/Colab Notebooks/Group_Dataset.csv\")\n",
    "interaction_df = pd.read_csv(\"/content/drive/My Drive/Colab Notebooks/User-Group_Interactions_Dataset.csv\")"
   ]
  },
  {
   "cell_type": "code",
   "execution_count": null,
   "metadata": {
    "executionInfo": {
     "elapsed": 3,
     "status": "ok",
     "timestamp": 1742986582463,
     "user": {
      "displayName": "Shobi Sri",
      "userId": "12138627598149348774"
     },
     "user_tz": -330
    },
    "id": "iG6Uj1PM5tf4"
   },
   "outputs": [],
   "source": [
    "# Step 1: Preprocess multi-label fields\n",
    "def split_multi(x):\n",
    "    if pd.isna(x):\n",
    "        return []\n",
    "    return [i.strip() for i in x.split(',')] if isinstance(x, str) else []\n",
    "\n",
    "user_df['User_Interest'] = user_df['User_Interest'].apply(split_multi)\n",
    "user_df['Preferred_Destination'] = user_df['Preferred_Destination'].apply(split_multi)\n",
    "group_df['Group_Interest'] = group_df['Group_Interest'].apply(split_multi)\n",
    "group_df['Destinations_Planned'] = group_df['Destinations_Planned'].apply(split_multi)"
   ]
  },
  {
   "cell_type": "code",
   "execution_count": null,
   "metadata": {
    "executionInfo": {
     "elapsed": 42,
     "status": "ok",
     "timestamp": 1742986589732,
     "user": {
      "displayName": "Shobi Sri",
      "userId": "12138627598149348774"
     },
     "user_tz": -330
    },
    "id": "UHZWXzDv5wgY"
   },
   "outputs": [],
   "source": [
    "#Step 2: Merge DataFrames into a single DataFrame\n",
    "df = interaction_df.merge(user_df, on='User_ID').merge(group_df, on='Group_ID')"
   ]
  },
  {
   "cell_type": "code",
   "execution_count": null,
   "metadata": {
    "executionInfo": {
     "elapsed": 19,
     "status": "ok",
     "timestamp": 1742986591659,
     "user": {
      "displayName": "Shobi Sri",
      "userId": "12138627598149348774"
     },
     "user_tz": -330
    },
    "id": "b_Oxz91E5yja"
   },
   "outputs": [],
   "source": [
    "#Step 3: Ensure no missing values\n",
    "f['Budget_x'] = df['Budget_x'].fillna('Unknown')\n",
    "df['Travel_Style_x'] = df['Travel_Style_x'].fillna('Unknown')\n",
    "df['Age'] = df['Age'].fillna(df['Age'].median())\n",
    "df['Current_Members'] = df['Current_Members'].fillna(df['Current_Members'].median())"
   ]
  },
  {
   "cell_type": "code",
   "execution_count": null,
   "metadata": {
    "executionInfo": {
     "elapsed": 2815,
     "status": "ok",
     "timestamp": 1742986680399,
     "user": {
      "displayName": "Shobi Sri",
      "userId": "12138627598149348774"
     },
     "user_tz": -330
    },
    "id": "wliNJNO55292"
   },
   "outputs": [],
   "source": [
    "#Step 4: Captures the semantic similarity\n",
    "sbert = SentenceTransformer('all-MiniLM-L6-v2')\n",
    "\n",
    "df['User_Interest_Text'] = df['User_Interest'].apply(lambda x: ', '.join(x))\n",
    "df['Group_Interest_Text'] = df['Group_Interest'].apply(lambda x: ', '.join(x))\n",
    "df['User_Destination_Text'] = df['Preferred_Destination'].apply(lambda x: ', '.join(x))\n",
    "df['Group_Destination_Text'] = df['Destinations_Planned'].apply(lambda x: ', '.join(x))\n",
    "\n",
    "user_interest_emb = sbert.encode(df['User_Interest_Text'].tolist(), convert_to_tensor=True)\n",
    "group_interest_emb = sbert.encode(df['Group_Interest_Text'].tolist(), convert_to_tensor=True)\n",
    "user_dest_emb = sbert.encode(df['User_Destination_Text'].tolist(), convert_to_tensor=True)\n",
    "group_dest_emb = sbert.encode(df['Group_Destination_Text'].tolist(), convert_to_tensor=True)\n",
    "\n",
    "df['Interest_Similarity'] = [\n",
    "    float(np.dot(u.cpu().numpy(), g.cpu().numpy()) /\n",
    "          (np.linalg.norm(u.cpu().numpy()) * np.linalg.norm(g.cpu().numpy())))\n",
    "    for u, g in zip(user_interest_emb, group_interest_emb)\n",
    "]\n",
    "\n",
    "df['Destination_Similarity'] = [\n",
    "    float(np.dot(u.cpu().numpy(), g.cpu().numpy()) /\n",
    "          (np.linalg.norm(u.cpu().numpy()) * np.linalg.norm(g.cpu().numpy())))\n",
    "    for u, g in zip(user_dest_emb, group_dest_emb)\n",
    "]\n"
   ]
  },
  {
   "cell_type": "code",
   "execution_count": null,
   "metadata": {
    "colab": {
     "base_uri": "https://localhost:8080/"
    },
    "executionInfo": {
     "elapsed": 51,
     "status": "ok",
     "timestamp": 1742986712616,
     "user": {
      "displayName": "Shobi Sri",
      "userId": "12138627598149348774"
     },
     "user_tz": -330
    },
    "id": "dLx_UO0B55B3",
    "outputId": "d538c1f4-be5c-4e75-8527-ffb771500e28"
   },
   "outputs": [
    {
     "data": {
      "text/plain": [
       "['/content/drive/MyDrive/feature_scaler.pkl']"
      ]
     },
     "execution_count": 61,
     "metadata": {},
     "output_type": "execute_result"
    }
   ],
   "source": [
    "#Step 5: Encodes categorical features\n",
    "onehot_budget = OneHotEncoder(sparse_output=False, handle_unknown='ignore')\n",
    "onehot_style = OneHotEncoder(sparse_output=False, handle_unknown='ignore')\n",
    "budget_encoded = onehot_budget.fit_transform(df[['Budget_x']])\n",
    "style_encoded = onehot_style.fit_transform(df[['Travel_Style_x']])\n",
    "\n",
    "scaler = MinMaxScaler()\n",
    "age_scaled = scaler.fit_transform(df[['Age']])\n",
    "members_scaled = scaler.fit_transform(df[['Current_Members']])\n",
    "\n",
    "# Save encoders + scalers for inference\n",
    "joblib.dump(onehot_budget, '/content/drive/MyDrive/budget_encoder.pkl')\n",
    "joblib.dump(onehot_style, '/content/drive/MyDrive/style_encoder.pkl')\n",
    "joblib.dump(scaler, '/content/drive/MyDrive/feature_scaler.pkl')"
   ]
  },
  {
   "cell_type": "code",
   "execution_count": null,
   "metadata": {
    "executionInfo": {
     "elapsed": 5,
     "status": "ok",
     "timestamp": 1742986716714,
     "user": {
      "displayName": "Shobi Sri",
      "userId": "12138627598149348774"
     },
     "user_tz": -330
    },
    "id": "d0DwRWFf55iY"
   },
   "outputs": [],
   "source": [
    "#Step 6: Prepares data for the ranking model\n",
    "X = np.hstack([\n",
    "    age_scaled,\n",
    "    budget_encoded,\n",
    "    style_encoded,\n",
    "    df[['Interest_Similarity', 'Destination_Similarity']].values,\n",
    "    members_scaled\n",
    "])\n",
    "y = (df['Joined'] == 'Yes').astype(int).values\n",
    "user_ids = df['User_ID'].values"
   ]
  },
  {
   "cell_type": "code",
   "execution_count": null,
   "metadata": {
    "executionInfo": {
     "elapsed": 6,
     "status": "ok",
     "timestamp": 1742986720171,
     "user": {
      "displayName": "Shobi Sri",
      "userId": "12138627598149348774"
     },
     "user_tz": -330
    },
    "id": "RkrNrRai578L"
   },
   "outputs": [],
   "source": [
    "#Step 6: Prepares data for evaluation and training\n",
    "train_users, test_users = train_test_split(np.unique(user_ids), test_size=0.2, random_state=42)\n",
    "train_mask = df['User_ID'].isin(train_users)\n",
    "\n",
    "X_train, X_test = X[train_mask], X[~train_mask]\n",
    "y_train, y_test = y[train_mask], y[~train_mask]\n",
    "train_group = df[train_mask].groupby('User_ID').size().tolist()\n",
    "test_group = df[~train_mask].groupby('User_ID').size().tolist()\n",
    "test_user_ids = user_ids[~train_mask]\n"
   ]
  },
  {
   "cell_type": "code",
   "execution_count": null,
   "metadata": {
    "colab": {
     "base_uri": "https://localhost:8080/"
    },
    "executionInfo": {
     "elapsed": 22,
     "status": "ok",
     "timestamp": 1742986723036,
     "user": {
      "displayName": "Shobi Sri",
      "userId": "12138627598149348774"
     },
     "user_tz": -330
    },
    "id": "BaNRgoMJ59_e",
    "outputId": "2fa87415-6e66-45ba-ab70-58f52e80e0a8"
   },
   "outputs": [
    {
     "name": "stdout",
     "output_type": "stream",
     "text": [
      "Training until validation scores don't improve for 10 rounds\n",
      "[10]\tvalidation's ndcg@1: 0.66\tvalidation's ndcg@2: 0.735712\tvalidation's ndcg@3: 0.853632\tvalidation's ndcg@4: 0.853632\tvalidation's ndcg@5: 0.853632\n",
      "Early stopping, best iteration is:\n",
      "[1]\tvalidation's ndcg@1: 0.73\tvalidation's ndcg@2: 0.775178\tvalidation's ndcg@3: 0.883427\tvalidation's ndcg@4: 0.883427\tvalidation's ndcg@5: 0.883427\n"
     ]
    }
   ],
   "source": [
    "#Step 7:  Builds a model that ranks groups\n",
    "train_data = lgb.Dataset(X_train, label=y_train, group=train_group)\n",
    "valid_data = lgb.Dataset(X_test, label=y_test, group=test_group)\n",
    "\n",
    "params = {\n",
    "    'objective': 'lambdarank',\n",
    "    'metric': 'ndcg',\n",
    "    'learning_rate': 0.1,\n",
    "    'max_depth': 7,\n",
    "    'verbosity': -1,\n",
    "    'random_state': 42\n",
    "}\n",
    "\n",
    "callbacks = [\n",
    "    lgb.early_stopping(stopping_rounds=10),\n",
    "    lgb.log_evaluation(period=10)\n",
    "]\n",
    "\n",
    "ranker = lgb.train(\n",
    "    params=params,\n",
    "    train_set=train_data,\n",
    "    num_boost_round=150,\n",
    "    valid_sets=[valid_data],\n",
    "    valid_names=['validation'],\n",
    "    callbacks=callbacks\n",
    ")"
   ]
  },
  {
   "cell_type": "code",
   "execution_count": null,
   "metadata": {
    "colab": {
     "base_uri": "https://localhost:8080/"
    },
    "executionInfo": {
     "elapsed": 47,
     "status": "ok",
     "timestamp": 1742986729512,
     "user": {
      "displayName": "Shobi Sri",
      "userId": "12138627598149348774"
     },
     "user_tz": -330
    },
    "id": "Zfrpjmvg6CNd",
    "outputId": "21e9c801-6e02-4e82-e4b0-9f676329eaa9"
   },
   "outputs": [
    {
     "name": "stdout",
     "output_type": "stream",
     "text": [
      "✅ NDCG@3 Score: 0.6430903102557878\n"
     ]
    }
   ],
   "source": [
    "#Step 8: Assesses the effectiveness of the ranking model \n",
    "from sklearn.metrics import ndcg_score\n",
    "\n",
    "def group_by_user(y_true, y_pred, user_ids):\n",
    "    grouped_true, grouped_pred = [], []\n",
    "    for uid in np.unique(user_ids):\n",
    "        mask = user_ids == uid\n",
    "        grouped_true.append(y_true[mask])\n",
    "        grouped_pred.append(y_pred[mask])\n",
    "    return grouped_true, grouped_pred\n",
    "\n",
    "y_pred = ranker.predict(X_test)\n",
    "true_groups, pred_groups = group_by_user(y_test, y_pred, test_user_ids)\n",
    "\n",
    "ndcg_at_3 = np.mean([\n",
    "    ndcg_score([true], [pred], k=3)\n",
    "    for true, pred in zip(true_groups, pred_groups)\n",
    "    if len(true) >= 3\n",
    "])\n",
    "print(\"✅ NDCG@3 Score:\", ndcg_at_3)"
   ]
  },
  {
   "cell_type": "code",
   "execution_count": null,
   "metadata": {
    "colab": {
     "base_uri": "https://localhost:8080/"
    },
    "executionInfo": {
     "elapsed": 10,
     "status": "ok",
     "timestamp": 1742986733436,
     "user": {
      "displayName": "Shobi Sri",
      "userId": "12138627598149348774"
     },
     "user_tz": -330
    },
    "id": "-lPtVDvd6FSL",
    "outputId": "5ae9e5c4-0896-4cfe-c6bb-70d33d5c12f1"
   },
   "outputs": [
    {
     "name": "stdout",
     "output_type": "stream",
     "text": [
      "✅ Model saved to: /content/drive/MyDrive/trained_lgbm_ranker_semantic.txt\n"
     ]
    }
   ],
   "source": [
    "#save the model\n",
    "model_path = \"/content/drive/MyDrive/trained_lgbm_ranker_semantic.txt\"\n",
    "ranker.save_model(model_path)\n",
    "print(\"✅ Model saved to:\", model_path)"
   ]
  },
  {
   "cell_type": "code",
   "execution_count": 35,
   "metadata": {
    "executionInfo": {
     "elapsed": 1129,
     "status": "ok",
     "timestamp": 1742996632106,
     "user": {
      "displayName": "Shobi Sri",
      "userId": "12138627598149348774"
     },
     "user_tz": -330
    },
    "id": "-MRO3xZLom4R"
   },
   "outputs": [],
   "source": [
    "import joblib\n",
    "import numpy as np\n",
    "import pandas as pd\n",
    "from sentence_transformers import SentenceTransformer\n",
    "import lightgbm as lgb\n",
    "\n",
    "# Load saved components\n",
    "model = lgb.Booster(model_file=\"/content/drive/MyDrive/trained_lgbm_ranker_semantic.txt\")\n",
    "budget_encoder = joblib.load(\"/content/drive/MyDrive/budget_encoder.pkl\")\n",
    "style_encoder = joblib.load(\"/content/drive/MyDrive/style_encoder.pkl\")\n",
    "scaler = joblib.load(\"/content/drive/MyDrive/feature_scaler.pkl\")\n",
    "sbert = SentenceTransformer('all-MiniLM-L6-v2')\n",
    "\n",
    "# Load group dataset\n",
    "group_df = pd.read_csv(\"/content/drive/My Drive/Colab Notebooks/Group_Dataset.csv\")\n",
    "group_df['Group_Interest'] = group_df['Group_Interest'].fillna('').apply(lambda x: [i.strip() for i in x.split(',')])\n",
    "group_df['Destinations_Planned'] = group_df['Destinations_Planned'].fillna('').apply(lambda x: [i.strip() for i in x.split(',')])\n",
    "def recommend_groups_for_user(age, budget, interests, preferred_destinations=None, travel_style=\"Unknown\"):\n",
    "    # Clean up destinations list\n",
    "    preferred_destinations = preferred_destinations if preferred_destinations else []\n",
    "\n",
    "    # Compute user embeddings\n",
    "    user_interest_text = \", \".join(interests)\n",
    "    user_interest_emb = sbert.encode([user_interest_text])[0]\n",
    "\n",
    "    if preferred_destinations:\n",
    "        user_dest_text = \", \".join(preferred_destinations)\n",
    "        user_dest_emb = sbert.encode([user_dest_text])[0]\n",
    "    else:\n",
    "        user_dest_emb = np.zeros(384)  # Fallback for destination\n",
    "\n",
    "    # Group embeddings\n",
    "    group_interest_embs = sbert.encode(group_df['Group_Interest'].apply(lambda x: ', '.join(x)).tolist())\n",
    "    group_dest_embs = sbert.encode(group_df['Destinations_Planned'].apply(lambda x: ', '.join(x)).tolist())\n",
    "\n",
    "    # Similarity scores\n",
    "    interest_sims = np.dot(group_interest_embs, user_interest_emb) / (\n",
    "        np.linalg.norm(group_interest_embs, axis=1) * np.linalg.norm(user_interest_emb)\n",
    "    )\n",
    "\n",
    "    dest_sims = np.dot(group_dest_embs, user_dest_emb) / (\n",
    "        np.linalg.norm(group_dest_embs, axis=1) * np.linalg.norm(user_dest_emb)\n",
    "    ) if preferred_destinations else np.zeros(len(group_df))\n",
    "\n",
    "    # Encode other features\n",
    "    budget_encoded = budget_encoder.transform([[budget]])\n",
    "    style_encoded = style_encoder.transform([[travel_style]])  # No travel style from user\n",
    "    age_scaled = np.repeat(scaler.transform([[age]])[:, 0], len(group_df))\n",
    "    members_scaled = scaler.transform(group_df[['Current_Members']])[:, 0]\n",
    "\n",
    "    # Final feature matrix\n",
    "    X_new = np.hstack([\n",
    "        age_scaled.reshape(-1, 1),\n",
    "        np.repeat(budget_encoded, len(group_df), axis=0),\n",
    "        np.repeat(style_encoded, len(group_df), axis=0),\n",
    "        interest_sims.reshape(-1, 1),\n",
    "        dest_sims.reshape(-1, 1),\n",
    "        members_scaled.reshape(-1, 1)\n",
    "    ])\n",
    "\n",
    "    # Predict scores\n",
    "    scores = model.predict(X_new)\n",
    "    group_df['Score'] = scores\n",
    "    top_3 = group_df.sort_values(by='Score', ascending=False).head(3)\n",
    "\n",
    "    return top_3[['Group_ID', 'Group_Interest', 'Destinations_Planned', 'Current_Members', 'Score']]\n"
   ]
  },
  {
   "cell_type": "code",
   "execution_count": 47,
   "metadata": {
    "colab": {
     "base_uri": "https://localhost:8080/",
     "height": 252
    },
    "executionInfo": {
     "elapsed": 120,
     "status": "ok",
     "timestamp": 1742998709608,
     "user": {
      "displayName": "Shobi Sri",
      "userId": "12138627598149348774"
     },
     "user_tz": -330
    },
    "id": "M5vPGeryo1bG",
    "outputId": "b48cc60f-70ec-49e1-d0a4-fd8aa9540d9a"
   },
   "outputs": [
    {
     "name": "stderr",
     "output_type": "stream",
     "text": [
      "/usr/local/lib/python3.11/dist-packages/sklearn/utils/validation.py:2739: UserWarning: X does not have valid feature names, but OneHotEncoder was fitted with feature names\n",
      "  warnings.warn(\n",
      "/usr/local/lib/python3.11/dist-packages/sklearn/utils/validation.py:2739: UserWarning: X does not have valid feature names, but OneHotEncoder was fitted with feature names\n",
      "  warnings.warn(\n",
      "/usr/local/lib/python3.11/dist-packages/sklearn/utils/validation.py:2739: UserWarning: X does not have valid feature names, but MinMaxScaler was fitted with feature names\n",
      "  warnings.warn(\n"
     ]
    },
    {
     "data": {
      "application/vnd.google.colaboratory.intrinsic+json": {
       "summary": "{\n  \"name\": \")\",\n  \"rows\": 3,\n  \"fields\": [\n    {\n      \"column\": \"Group_ID\",\n      \"properties\": {\n        \"dtype\": \"string\",\n        \"num_unique_values\": 3,\n        \"samples\": [\n          \"G0020\",\n          \"G0119\",\n          \"G0075\"\n        ],\n        \"semantic_type\": \"\",\n        \"description\": \"\"\n      }\n    },\n    {\n      \"column\": \"Group_Interest\",\n      \"properties\": {\n        \"dtype\": \"object\",\n        \"semantic_type\": \"\",\n        \"description\": \"\"\n      }\n    },\n    {\n      \"column\": \"Destinations_Planned\",\n      \"properties\": {\n        \"dtype\": \"object\",\n        \"semantic_type\": \"\",\n        \"description\": \"\"\n      }\n    },\n    {\n      \"column\": \"Current_Members\",\n      \"properties\": {\n        \"dtype\": \"number\",\n        \"std\": 1,\n        \"min\": 6,\n        \"max\": 9,\n        \"num_unique_values\": 3,\n        \"samples\": [\n          8,\n          9,\n          6\n        ],\n        \"semantic_type\": \"\",\n        \"description\": \"\"\n      }\n    },\n    {\n      \"column\": \"Score\",\n      \"properties\": {\n        \"dtype\": \"number\",\n        \"std\": 0.0,\n        \"min\": 0.15193187375364425,\n        \"max\": 0.15193187375364425,\n        \"num_unique_values\": 1,\n        \"samples\": [\n          0.15193187375364425\n        ],\n        \"semantic_type\": \"\",\n        \"description\": \"\"\n      }\n    }\n  ]\n}",
       "type": "dataframe"
      },
      "text/html": [
       "\n",
       "  <div id=\"df-99965817-54c5-4768-92b2-a71ee5d36bc8\" class=\"colab-df-container\">\n",
       "    <div>\n",
       "<style scoped>\n",
       "    .dataframe tbody tr th:only-of-type {\n",
       "        vertical-align: middle;\n",
       "    }\n",
       "\n",
       "    .dataframe tbody tr th {\n",
       "        vertical-align: top;\n",
       "    }\n",
       "\n",
       "    .dataframe thead th {\n",
       "        text-align: right;\n",
       "    }\n",
       "</style>\n",
       "<table border=\"1\" class=\"dataframe\">\n",
       "  <thead>\n",
       "    <tr style=\"text-align: right;\">\n",
       "      <th></th>\n",
       "      <th>Group_ID</th>\n",
       "      <th>Group_Interest</th>\n",
       "      <th>Destinations_Planned</th>\n",
       "      <th>Current_Members</th>\n",
       "      <th>Score</th>\n",
       "    </tr>\n",
       "  </thead>\n",
       "  <tbody>\n",
       "    <tr>\n",
       "      <th>19</th>\n",
       "      <td>G0020</td>\n",
       "      <td>[Nature Walks, Surfing]</td>\n",
       "      <td>[Jaffna Fort, Polonnaruwa, Dagoba of Thuparama...</td>\n",
       "      <td>8</td>\n",
       "      <td>0.151932</td>\n",
       "    </tr>\n",
       "    <tr>\n",
       "      <th>118</th>\n",
       "      <td>G0119</td>\n",
       "      <td>[Sightseeing, Wildlife]</td>\n",
       "      <td>[Mount Lavinia Beach, National Zoological Gard...</td>\n",
       "      <td>9</td>\n",
       "      <td>0.151932</td>\n",
       "    </tr>\n",
       "    <tr>\n",
       "      <th>74</th>\n",
       "      <td>G0075</td>\n",
       "      <td>[Meditation, Hiking]</td>\n",
       "      <td>[Negombo Beach, Abhayagiri Dagaba, Mount Lavin...</td>\n",
       "      <td>6</td>\n",
       "      <td>0.151932</td>\n",
       "    </tr>\n",
       "  </tbody>\n",
       "</table>\n",
       "</div>\n",
       "    <div class=\"colab-df-buttons\">\n",
       "\n",
       "  <div class=\"colab-df-container\">\n",
       "    <button class=\"colab-df-convert\" onclick=\"convertToInteractive('df-99965817-54c5-4768-92b2-a71ee5d36bc8')\"\n",
       "            title=\"Convert this dataframe to an interactive table.\"\n",
       "            style=\"display:none;\">\n",
       "\n",
       "  <svg xmlns=\"http://www.w3.org/2000/svg\" height=\"24px\" viewBox=\"0 -960 960 960\">\n",
       "    <path d=\"M120-120v-720h720v720H120Zm60-500h600v-160H180v160Zm220 220h160v-160H400v160Zm0 220h160v-160H400v160ZM180-400h160v-160H180v160Zm440 0h160v-160H620v160ZM180-180h160v-160H180v160Zm440 0h160v-160H620v160Z\"/>\n",
       "  </svg>\n",
       "    </button>\n",
       "\n",
       "  <style>\n",
       "    .colab-df-container {\n",
       "      display:flex;\n",
       "      gap: 12px;\n",
       "    }\n",
       "\n",
       "    .colab-df-convert {\n",
       "      background-color: #E8F0FE;\n",
       "      border: none;\n",
       "      border-radius: 50%;\n",
       "      cursor: pointer;\n",
       "      display: none;\n",
       "      fill: #1967D2;\n",
       "      height: 32px;\n",
       "      padding: 0 0 0 0;\n",
       "      width: 32px;\n",
       "    }\n",
       "\n",
       "    .colab-df-convert:hover {\n",
       "      background-color: #E2EBFA;\n",
       "      box-shadow: 0px 1px 2px rgba(60, 64, 67, 0.3), 0px 1px 3px 1px rgba(60, 64, 67, 0.15);\n",
       "      fill: #174EA6;\n",
       "    }\n",
       "\n",
       "    .colab-df-buttons div {\n",
       "      margin-bottom: 4px;\n",
       "    }\n",
       "\n",
       "    [theme=dark] .colab-df-convert {\n",
       "      background-color: #3B4455;\n",
       "      fill: #D2E3FC;\n",
       "    }\n",
       "\n",
       "    [theme=dark] .colab-df-convert:hover {\n",
       "      background-color: #434B5C;\n",
       "      box-shadow: 0px 1px 3px 1px rgba(0, 0, 0, 0.15);\n",
       "      filter: drop-shadow(0px 1px 2px rgba(0, 0, 0, 0.3));\n",
       "      fill: #FFFFFF;\n",
       "    }\n",
       "  </style>\n",
       "\n",
       "    <script>\n",
       "      const buttonEl =\n",
       "        document.querySelector('#df-99965817-54c5-4768-92b2-a71ee5d36bc8 button.colab-df-convert');\n",
       "      buttonEl.style.display =\n",
       "        google.colab.kernel.accessAllowed ? 'block' : 'none';\n",
       "\n",
       "      async function convertToInteractive(key) {\n",
       "        const element = document.querySelector('#df-99965817-54c5-4768-92b2-a71ee5d36bc8');\n",
       "        const dataTable =\n",
       "          await google.colab.kernel.invokeFunction('convertToInteractive',\n",
       "                                                    [key], {});\n",
       "        if (!dataTable) return;\n",
       "\n",
       "        const docLinkHtml = 'Like what you see? Visit the ' +\n",
       "          '<a target=\"_blank\" href=https://colab.research.google.com/notebooks/data_table.ipynb>data table notebook</a>'\n",
       "          + ' to learn more about interactive tables.';\n",
       "        element.innerHTML = '';\n",
       "        dataTable['output_type'] = 'display_data';\n",
       "        await google.colab.output.renderOutput(dataTable, element);\n",
       "        const docLink = document.createElement('div');\n",
       "        docLink.innerHTML = docLinkHtml;\n",
       "        element.appendChild(docLink);\n",
       "      }\n",
       "    </script>\n",
       "  </div>\n",
       "\n",
       "\n",
       "<div id=\"df-94178684-2afd-4679-8a7b-9b23385bcffb\">\n",
       "  <button class=\"colab-df-quickchart\" onclick=\"quickchart('df-94178684-2afd-4679-8a7b-9b23385bcffb')\"\n",
       "            title=\"Suggest charts\"\n",
       "            style=\"display:none;\">\n",
       "\n",
       "<svg xmlns=\"http://www.w3.org/2000/svg\" height=\"24px\"viewBox=\"0 0 24 24\"\n",
       "     width=\"24px\">\n",
       "    <g>\n",
       "        <path d=\"M19 3H5c-1.1 0-2 .9-2 2v14c0 1.1.9 2 2 2h14c1.1 0 2-.9 2-2V5c0-1.1-.9-2-2-2zM9 17H7v-7h2v7zm4 0h-2V7h2v10zm4 0h-2v-4h2v4z\"/>\n",
       "    </g>\n",
       "</svg>\n",
       "  </button>\n",
       "\n",
       "<style>\n",
       "  .colab-df-quickchart {\n",
       "      --bg-color: #E8F0FE;\n",
       "      --fill-color: #1967D2;\n",
       "      --hover-bg-color: #E2EBFA;\n",
       "      --hover-fill-color: #174EA6;\n",
       "      --disabled-fill-color: #AAA;\n",
       "      --disabled-bg-color: #DDD;\n",
       "  }\n",
       "\n",
       "  [theme=dark] .colab-df-quickchart {\n",
       "      --bg-color: #3B4455;\n",
       "      --fill-color: #D2E3FC;\n",
       "      --hover-bg-color: #434B5C;\n",
       "      --hover-fill-color: #FFFFFF;\n",
       "      --disabled-bg-color: #3B4455;\n",
       "      --disabled-fill-color: #666;\n",
       "  }\n",
       "\n",
       "  .colab-df-quickchart {\n",
       "    background-color: var(--bg-color);\n",
       "    border: none;\n",
       "    border-radius: 50%;\n",
       "    cursor: pointer;\n",
       "    display: none;\n",
       "    fill: var(--fill-color);\n",
       "    height: 32px;\n",
       "    padding: 0;\n",
       "    width: 32px;\n",
       "  }\n",
       "\n",
       "  .colab-df-quickchart:hover {\n",
       "    background-color: var(--hover-bg-color);\n",
       "    box-shadow: 0 1px 2px rgba(60, 64, 67, 0.3), 0 1px 3px 1px rgba(60, 64, 67, 0.15);\n",
       "    fill: var(--button-hover-fill-color);\n",
       "  }\n",
       "\n",
       "  .colab-df-quickchart-complete:disabled,\n",
       "  .colab-df-quickchart-complete:disabled:hover {\n",
       "    background-color: var(--disabled-bg-color);\n",
       "    fill: var(--disabled-fill-color);\n",
       "    box-shadow: none;\n",
       "  }\n",
       "\n",
       "  .colab-df-spinner {\n",
       "    border: 2px solid var(--fill-color);\n",
       "    border-color: transparent;\n",
       "    border-bottom-color: var(--fill-color);\n",
       "    animation:\n",
       "      spin 1s steps(1) infinite;\n",
       "  }\n",
       "\n",
       "  @keyframes spin {\n",
       "    0% {\n",
       "      border-color: transparent;\n",
       "      border-bottom-color: var(--fill-color);\n",
       "      border-left-color: var(--fill-color);\n",
       "    }\n",
       "    20% {\n",
       "      border-color: transparent;\n",
       "      border-left-color: var(--fill-color);\n",
       "      border-top-color: var(--fill-color);\n",
       "    }\n",
       "    30% {\n",
       "      border-color: transparent;\n",
       "      border-left-color: var(--fill-color);\n",
       "      border-top-color: var(--fill-color);\n",
       "      border-right-color: var(--fill-color);\n",
       "    }\n",
       "    40% {\n",
       "      border-color: transparent;\n",
       "      border-right-color: var(--fill-color);\n",
       "      border-top-color: var(--fill-color);\n",
       "    }\n",
       "    60% {\n",
       "      border-color: transparent;\n",
       "      border-right-color: var(--fill-color);\n",
       "    }\n",
       "    80% {\n",
       "      border-color: transparent;\n",
       "      border-right-color: var(--fill-color);\n",
       "      border-bottom-color: var(--fill-color);\n",
       "    }\n",
       "    90% {\n",
       "      border-color: transparent;\n",
       "      border-bottom-color: var(--fill-color);\n",
       "    }\n",
       "  }\n",
       "</style>\n",
       "\n",
       "  <script>\n",
       "    async function quickchart(key) {\n",
       "      const quickchartButtonEl =\n",
       "        document.querySelector('#' + key + ' button');\n",
       "      quickchartButtonEl.disabled = true;  // To prevent multiple clicks.\n",
       "      quickchartButtonEl.classList.add('colab-df-spinner');\n",
       "      try {\n",
       "        const charts = await google.colab.kernel.invokeFunction(\n",
       "            'suggestCharts', [key], {});\n",
       "      } catch (error) {\n",
       "        console.error('Error during call to suggestCharts:', error);\n",
       "      }\n",
       "      quickchartButtonEl.classList.remove('colab-df-spinner');\n",
       "      quickchartButtonEl.classList.add('colab-df-quickchart-complete');\n",
       "    }\n",
       "    (() => {\n",
       "      let quickchartButtonEl =\n",
       "        document.querySelector('#df-94178684-2afd-4679-8a7b-9b23385bcffb button');\n",
       "      quickchartButtonEl.style.display =\n",
       "        google.colab.kernel.accessAllowed ? 'block' : 'none';\n",
       "    })();\n",
       "  </script>\n",
       "</div>\n",
       "\n",
       "    </div>\n",
       "  </div>\n"
      ],
      "text/plain": [
       "    Group_ID           Group_Interest  \\\n",
       "19     G0020  [Nature Walks, Surfing]   \n",
       "118    G0119  [Sightseeing, Wildlife]   \n",
       "74     G0075     [Meditation, Hiking]   \n",
       "\n",
       "                                  Destinations_Planned  Current_Members  \\\n",
       "19   [Jaffna Fort, Polonnaruwa, Dagoba of Thuparama...                8   \n",
       "118  [Mount Lavinia Beach, National Zoological Gard...                9   \n",
       "74   [Negombo Beach, Abhayagiri Dagaba, Mount Lavin...                6   \n",
       "\n",
       "        Score  \n",
       "19   0.151932  \n",
       "118  0.151932  \n",
       "74   0.151932  "
      ]
     },
     "execution_count": 47,
     "metadata": {},
     "output_type": "execute_result"
    }
   ],
   "source": [
    "recommend_groups_for_user(\n",
    "    age=23,\n",
    "    budget=\"High\",\n",
    "    interests=[\"Hiking\", \"Nature\"],\n",
    "    travel_style=\"Backpacking\"\n",
    ")\n"
   ]
  }
 ],
 "metadata": {
  "accelerator": "GPU",
  "colab": {
   "authorship_tag": "ABX9TyODqkVD9G9mJKDphTFxeYW+",
   "gpuType": "T4",
   "provenance": []
  },
  "kernelspec": {
   "display_name": "Python 3",
   "name": "python3"
  },
  "language_info": {
   "name": "python"
  }
 },
 "nbformat": 4,
 "nbformat_minor": 0
}
